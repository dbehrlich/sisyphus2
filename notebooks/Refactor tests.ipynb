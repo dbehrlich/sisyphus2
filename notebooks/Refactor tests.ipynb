{
 "cells": [
  {
   "cell_type": "code",
   "execution_count": 1,
   "metadata": {},
   "outputs": [
    {
     "name": "stderr",
     "output_type": "stream",
     "text": [
      "/Users/jasminestone/anaconda2/envs/py27tensorflow/lib/python2.7/site-packages/h5py/__init__.py:36: FutureWarning: Conversion of the second argument of issubdtype from `float` to `np.floating` is deprecated. In future, it will be treated as `np.float64 == np.dtype(float).type`.\n",
      "  from ._conv import register_converters as _register_converters\n"
     ]
    }
   ],
   "source": [
    "import sys\n",
    "sys.path.append('../..')\n",
    "from sisyphus2.backend.models.basic import Basic, BasicSigmoid, BasicScan\n",
    "from sisyphus2.backend.models.lstm import LSTM\n",
    "from sisyphus2.tasks import rdm as rd\n",
    "import numpy as np\n",
    "import tensorflow as tf\n",
    "from matplotlib import pyplot as plt\n",
    "%matplotlib inline"
   ]
  },
  {
   "cell_type": "code",
   "execution_count": 2,
   "metadata": {},
   "outputs": [],
   "source": [
    "rdm = rd.RDM(N_in = 2, N_out = 2, dt = 10, tau = 100, T = 2000, N_batch = 128)\n",
    "gen = rdm.batch_generator()"
   ]
  },
  {
   "cell_type": "code",
   "execution_count": 3,
   "metadata": {},
   "outputs": [],
   "source": [
    "params = rdm.__dict__"
   ]
  },
  {
   "cell_type": "code",
   "execution_count": 4,
   "metadata": {},
   "outputs": [],
   "source": [
    "params['name'] = 'model'\n",
    "params['N_rec'] = 50"
   ]
  },
  {
   "cell_type": "code",
   "execution_count": 5,
   "metadata": {},
   "outputs": [],
   "source": [
    "model = Basic(params)"
   ]
  },
  {
   "cell_type": "code",
   "execution_count": 6,
   "metadata": {
    "scrolled": true
   },
   "outputs": [],
   "source": [
    "model.build()"
   ]
  },
  {
   "cell_type": "code",
   "execution_count": 7,
   "metadata": {},
   "outputs": [],
   "source": [
    "params['name'] = 'model2'\n",
    "model2 = Basic(params)\n",
    "model2.build()"
   ]
  },
  {
   "cell_type": "code",
   "execution_count": 8,
   "metadata": {},
   "outputs": [
    {
     "data": {
      "text/plain": [
       "''"
      ]
     },
     "execution_count": 8,
     "metadata": {},
     "output_type": "execute_result"
    }
   ],
   "source": [
    "tf.get_default_graph().get_name_scope()"
   ]
  },
  {
   "cell_type": "code",
   "execution_count": 9,
   "metadata": {},
   "outputs": [
    {
     "name": "stdout",
     "output_type": "stream",
     "text": [
      "WARNING:tensorflow:From /Users/jasminestone/anaconda2/envs/py27tensorflow/lib/python2.7/site-packages/tensorflow/python/ops/clip_ops.py:113: calling reduce_sum (from tensorflow.python.ops.math_ops) with keep_dims is deprecated and will be removed in a future version.\n",
      "Instructions for updating:\n",
      "keep_dims is deprecated, use keepdims instead\n",
      "Iter 1280, Minibatch Loss= 0.230967\n",
      "Iter 2560, Minibatch Loss= 0.145574\n",
      "Iter 3840, Minibatch Loss= 0.129667\n",
      "Iter 5120, Minibatch Loss= 0.129220\n",
      "Iter 6400, Minibatch Loss= 0.120840\n",
      "Iter 7680, Minibatch Loss= 0.118194\n",
      "Iter 8960, Minibatch Loss= 0.092964\n",
      "Iter 10240, Minibatch Loss= 0.104632\n",
      "Iter 11520, Minibatch Loss= 0.031763\n",
      "Iter 12800, Minibatch Loss= 0.033324\n",
      "Iter 14080, Minibatch Loss= 0.022667\n",
      "Iter 15360, Minibatch Loss= 0.027089\n",
      "Iter 16640, Minibatch Loss= 0.032616\n",
      "Iter 17920, Minibatch Loss= 0.018038\n",
      "Iter 19200, Minibatch Loss= 0.014182\n",
      "Iter 20480, Minibatch Loss= 0.021675\n",
      "Iter 21760, Minibatch Loss= 0.018467\n",
      "Iter 23040, Minibatch Loss= 0.020682\n",
      "Iter 24320, Minibatch Loss= 0.014948\n",
      "Iter 25600, Minibatch Loss= 0.010821\n",
      "Iter 26880, Minibatch Loss= 0.011719\n",
      "Iter 28160, Minibatch Loss= 0.010269\n",
      "Iter 29440, Minibatch Loss= 0.009419\n",
      "Iter 30720, Minibatch Loss= 0.010974\n",
      "Iter 32000, Minibatch Loss= 0.013641\n",
      "Iter 33280, Minibatch Loss= 0.009984\n",
      "Iter 34560, Minibatch Loss= 0.010244\n",
      "Iter 35840, Minibatch Loss= 0.009374\n",
      "Iter 37120, Minibatch Loss= 0.008953\n",
      "Iter 38400, Minibatch Loss= 0.007314\n",
      "Iter 39680, Minibatch Loss= 0.007551\n",
      "Iter 40960, Minibatch Loss= 0.007250\n",
      "Iter 42240, Minibatch Loss= 0.006568\n",
      "Iter 43520, Minibatch Loss= 0.007127\n",
      "Iter 44800, Minibatch Loss= 0.006906\n",
      "Iter 46080, Minibatch Loss= 0.005838\n",
      "Iter 47360, Minibatch Loss= 0.006366\n",
      "Iter 48640, Minibatch Loss= 0.010133\n",
      "Iter 49920, Minibatch Loss= 0.005977\n",
      "Optimization finished!\n",
      "Model saved in file: ../weights/refactor_weights.npz\n"
     ]
    },
    {
     "data": {
      "text/plain": [
       "([0.23096687,\n",
       "  0.1455738,\n",
       "  0.12966736,\n",
       "  0.12921959,\n",
       "  0.120840035,\n",
       "  0.11819374,\n",
       "  0.09296377,\n",
       "  0.10463232,\n",
       "  0.03176292,\n",
       "  0.033323847,\n",
       "  0.0226668,\n",
       "  0.027089184,\n",
       "  0.032616332,\n",
       "  0.018037666,\n",
       "  0.014181969,\n",
       "  0.021675415,\n",
       "  0.01846664,\n",
       "  0.0206819,\n",
       "  0.014948442,\n",
       "  0.010821406,\n",
       "  0.011718733,\n",
       "  0.010269028,\n",
       "  0.009418607,\n",
       "  0.010973836,\n",
       "  0.013641003,\n",
       "  0.009984302,\n",
       "  0.010243608,\n",
       "  0.009373755,\n",
       "  0.008952813,\n",
       "  0.0073142536,\n",
       "  0.0075508715,\n",
       "  0.0072504524,\n",
       "  0.006567701,\n",
       "  0.0071271677,\n",
       "  0.0069056246,\n",
       "  0.0058379746,\n",
       "  0.0063655735,\n",
       "  0.010132812,\n",
       "  0.005976654],\n",
       " 532.4168260097504,\n",
       " 31.514954090118408)"
      ]
     },
     "execution_count": 9,
     "metadata": {},
     "output_type": "execute_result"
    }
   ],
   "source": [
    "model.train(gen, {'save_weights_path': '../weights/refactor_weights.npz', 'training_iters': 50000})"
   ]
  },
  {
   "cell_type": "code",
   "execution_count": 10,
   "metadata": {},
   "outputs": [
    {
     "name": "stdout",
     "output_type": "stream",
     "text": [
      "Iter 1280, Minibatch Loss= 0.204676\n",
      "Iter 2560, Minibatch Loss= 0.134838\n",
      "Iter 3840, Minibatch Loss= 0.127288\n",
      "Iter 5120, Minibatch Loss= 0.133708\n",
      "Iter 6400, Minibatch Loss= 0.127931\n",
      "Iter 7680, Minibatch Loss= 0.124113\n",
      "Iter 8960, Minibatch Loss= 0.125536\n",
      "Iter 10240, Minibatch Loss= 0.127961\n",
      "Iter 11520, Minibatch Loss= 0.129949\n",
      "Iter 12800, Minibatch Loss= 0.127384\n",
      "Iter 14080, Minibatch Loss= 0.127439\n",
      "Iter 15360, Minibatch Loss= 0.121383\n",
      "Iter 16640, Minibatch Loss= 0.119987\n",
      "Iter 17920, Minibatch Loss= 0.121382\n",
      "Iter 19200, Minibatch Loss= 0.119262\n",
      "Iter 20480, Minibatch Loss= 0.125279\n",
      "Iter 21760, Minibatch Loss= 0.123465\n",
      "Iter 23040, Minibatch Loss= 0.117167\n",
      "Iter 24320, Minibatch Loss= 0.107681\n",
      "Iter 25600, Minibatch Loss= 0.126205\n",
      "Iter 26880, Minibatch Loss= 0.061000\n",
      "Iter 28160, Minibatch Loss= 0.083862\n",
      "Iter 29440, Minibatch Loss= 0.056348\n",
      "Iter 30720, Minibatch Loss= 0.046004\n",
      "Iter 32000, Minibatch Loss= 0.054426\n",
      "Iter 33280, Minibatch Loss= 0.038128\n",
      "Iter 34560, Minibatch Loss= 0.033196\n",
      "Iter 35840, Minibatch Loss= 0.025745\n",
      "Iter 37120, Minibatch Loss= 0.029508\n",
      "Iter 38400, Minibatch Loss= 0.025685\n",
      "Iter 39680, Minibatch Loss= 0.021613\n",
      "Iter 40960, Minibatch Loss= 0.025562\n",
      "Iter 42240, Minibatch Loss= 0.017832\n",
      "Iter 43520, Minibatch Loss= 0.013915\n",
      "Iter 44800, Minibatch Loss= 0.016481\n",
      "Iter 46080, Minibatch Loss= 0.011751\n",
      "Iter 47360, Minibatch Loss= 0.020058\n",
      "Iter 48640, Minibatch Loss= 0.019392\n",
      "Iter 49920, Minibatch Loss= 0.012050\n",
      "Optimization finished!\n",
      "Model saved in file: ../weights/refactor_weights.npz\n"
     ]
    },
    {
     "data": {
      "text/plain": [
       "([0.2046764,\n",
       "  0.13483804,\n",
       "  0.12728772,\n",
       "  0.13370843,\n",
       "  0.12793112,\n",
       "  0.12411278,\n",
       "  0.1255363,\n",
       "  0.12796102,\n",
       "  0.12994948,\n",
       "  0.12738405,\n",
       "  0.1274389,\n",
       "  0.12138317,\n",
       "  0.11998741,\n",
       "  0.12138221,\n",
       "  0.11926239,\n",
       "  0.1252786,\n",
       "  0.123464815,\n",
       "  0.11716723,\n",
       "  0.10768066,\n",
       "  0.12620455,\n",
       "  0.06099992,\n",
       "  0.08386179,\n",
       "  0.056347705,\n",
       "  0.046003517,\n",
       "  0.054425582,\n",
       "  0.038128186,\n",
       "  0.033195987,\n",
       "  0.025744777,\n",
       "  0.029508062,\n",
       "  0.025684875,\n",
       "  0.02161304,\n",
       "  0.025561566,\n",
       "  0.017832294,\n",
       "  0.01391542,\n",
       "  0.016481215,\n",
       "  0.011750908,\n",
       "  0.020057773,\n",
       "  0.019391917,\n",
       "  0.012050424],\n",
       " 288.4041450023651,\n",
       " 58.66215109825134)"
      ]
     },
     "execution_count": 10,
     "metadata": {},
     "output_type": "execute_result"
    }
   ],
   "source": [
    "model2.train(gen, {'save_weights_path': '../weights/refactor_weights.npz', 'training_iters': 50000})"
   ]
  },
  {
   "cell_type": "code",
   "execution_count": 11,
   "metadata": {},
   "outputs": [],
   "source": [
    "x,y,m = gen.next()"
   ]
  },
  {
   "cell_type": "code",
   "execution_count": 12,
   "metadata": {},
   "outputs": [
    {
     "data": {
      "text/plain": [
       "[<matplotlib.lines.Line2D at 0x1847145890>,\n",
       " <matplotlib.lines.Line2D at 0x1847145a10>]"
      ]
     },
     "execution_count": 12,
     "metadata": {},
     "output_type": "execute_result"
    },
    {
     "data": {
      "image/png": "[encoded data removed]",
      "text/plain": [
       "<matplotlib.figure.Figure at 0x10e9aac50>"
      ]
     },
     "metadata": {},
     "output_type": "display_data"
    }
   ],
   "source": [
    "plt.plot(x[0,:,:])"
   ]
  },
  {
   "cell_type": "code",
   "execution_count": 13,
   "metadata": {},
   "outputs": [
    {
     "data": {
      "text/plain": [
       "[<matplotlib.lines.Line2D at 0x18470ac1d0>,\n",
       " <matplotlib.lines.Line2D at 0x18470ac310>]"
      ]
     },
     "execution_count": 13,
     "metadata": {},
     "output_type": "execute_result"
    },
    {
     "data": {
      "image/png": "[encoded data removed]",
      "text/plain": [
       "<matplotlib.figure.Figure at 0x1847123210>"
      ]
     },
     "metadata": {},
     "output_type": "display_data"
    }
   ],
   "source": [
    "plt.plot(model2.test(x)[0][0,:,:])"
   ]
  },
  {
   "cell_type": "code",
   "execution_count": 14,
   "metadata": {},
   "outputs": [],
   "source": [
    "model.destruct()"
   ]
  },
  {
   "cell_type": "code",
   "execution_count": 15,
   "metadata": {},
   "outputs": [
    {
     "data": {
      "text/plain": [
       "[]"
      ]
     },
     "execution_count": 15,
     "metadata": {},
     "output_type": "execute_result"
    }
   ],
   "source": [
    "tf.get_collection(tf.GraphKeys.GLOBAL_VARIABLES)"
   ]
  },
  {
   "cell_type": "code",
   "execution_count": null,
   "metadata": {},
   "outputs": [],
   "source": []
  }
 ],
 "metadata": {
  "anaconda-cloud": {},
  "kernelspec": {
   "display_name": "Python 2",
   "language": "python",
   "name": "python2"
  },
  "language_info": {
   "codemirror_mode": {
    "name": "ipython",
    "version": 2
   },
   "file_extension": ".py",
   "mimetype": "text/x-python",
   "name": "python",
   "nbconvert_exporter": "python",
   "pygments_lexer": "ipython2",
   "version": "2.7.14"
  }
 },
 "nbformat": 4,
 "nbformat_minor": 1
}
