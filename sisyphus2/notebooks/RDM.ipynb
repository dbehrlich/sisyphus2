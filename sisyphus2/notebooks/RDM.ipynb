{
 "cells": [
  {
   "cell_type": "code",
   "execution_count": 4,
   "metadata": {},
   "outputs": [
    {
     "ename": "ImportError",
     "evalue": "No module named sisyphus2",
     "output_type": "error",
     "traceback": [
      "\u001b[0;31m---------------------------------------------------------------------------\u001b[0m",
      "\u001b[0;31mImportError\u001b[0m                               Traceback (most recent call last)",
      "\u001b[0;32m<ipython-input-4-73ea4662a29f>\u001b[0m in \u001b[0;36m<module>\u001b[0;34m()\u001b[0m\n\u001b[0;32m----> 1\u001b[0;31m \u001b[0;32mimport\u001b[0m \u001b[0msisyphus2\u001b[0m\u001b[0;34m\u001b[0m\u001b[0m\n\u001b[0m\u001b[1;32m      2\u001b[0m \u001b[0;32mfrom\u001b[0m \u001b[0msisyphus2\u001b[0m\u001b[0;34m.\u001b[0m\u001b[0mtasks\u001b[0m \u001b[0;32mimport\u001b[0m \u001b[0mrdm\u001b[0m \u001b[0;32mas\u001b[0m \u001b[0mrd\u001b[0m\u001b[0;34m\u001b[0m\u001b[0m\n\u001b[1;32m      3\u001b[0m \u001b[0;32mfrom\u001b[0m \u001b[0msisyphus2\u001b[0m\u001b[0;34m.\u001b[0m\u001b[0mbackend\u001b[0m\u001b[0;34m.\u001b[0m\u001b[0mmodels\u001b[0m\u001b[0;34m.\u001b[0m\u001b[0mbasic\u001b[0m \u001b[0;32mimport\u001b[0m \u001b[0mBasic\u001b[0m\u001b[0;34m\u001b[0m\u001b[0m\n\u001b[1;32m      4\u001b[0m \u001b[0;34m\u001b[0m\u001b[0m\n\u001b[1;32m      5\u001b[0m \u001b[0;32mimport\u001b[0m \u001b[0mtensorflow\u001b[0m \u001b[0;32mas\u001b[0m \u001b[0mtf\u001b[0m\u001b[0;34m\u001b[0m\u001b[0m\n",
      "\u001b[0;31mImportError\u001b[0m: No module named sisyphus2"
     ]
    }
   ],
   "source": [
    "import sisyphus2\n",
    "from sisyphus2.tasks import rdm as rd\n",
    "from sisyphus2.backend.models.basic import Basic\n",
    "\n",
    "import tensorflow as tf\n",
    "from matplotlib import pyplot as plt\n",
    "%matplotlib inline"
   ]
  },
  {
   "cell_type": "markdown",
   "metadata": {},
   "source": [
    "define params globally first before passing to RDM, mess w/ model params and explain what can do. (can turn on and off dale's law). some masking, input output connectivity. train_params variables stuff"
   ]
  },
  {
   "cell_type": "code",
   "execution_count": 19,
   "metadata": {},
   "outputs": [],
   "source": [
    "dt = 10 # time-step\n",
    "tau = 100 # intrinsic time constant of neural state decay\n",
    "T = 2000 # time to run for (number of steps is T/dt)\n",
    "N_batch = 50 # number of trials per training step\n",
    "N_rec = 50 # number of recurrent units\n",
    "name = 'basicModel'"
   ]
  },
  {
   "cell_type": "code",
   "execution_count": 20,
   "metadata": {},
   "outputs": [],
   "source": [
    "rdm = rd.RDM(dt = dt, tau = tau, T = T, N_batch = N_batch)"
   ]
  },
  {
   "cell_type": "markdown",
   "metadata": {},
   "source": [
    "RDM puts the params passed in as well as other generated params into a dict we can then use to create our model. "
   ]
  },
  {
   "cell_type": "code",
   "execution_count": 21,
   "metadata": {},
   "outputs": [
    {
     "name": "stdout",
     "output_type": "stream",
     "text": [
      "{'tau': 100, 'N_in': 2, 'N_batch': 50, 'T': 2000, 'N_steps': 200, 'alpha': 0.1, 'dt': 10, 'N_out': 2}\n"
     ]
    }
   ],
   "source": [
    "params = rdm.__dict__\n",
    "print(params)"
   ]
  },
  {
   "cell_type": "markdown",
   "metadata": {},
   "source": [
    "Generate *N_batch* trials to be used in training"
   ]
  },
  {
   "cell_type": "code",
   "execution_count": 22,
   "metadata": {},
   "outputs": [],
   "source": [
    "gen = rdm.batch_generator()"
   ]
  },
  {
   "cell_type": "markdown",
   "metadata": {},
   "source": [
    "We add in a few params that Basic(RNN) needs but that RDM doesn't generate for us."
   ]
  },
  {
   "cell_type": "code",
   "execution_count": 23,
   "metadata": {},
   "outputs": [],
   "source": [
    "params['name'] = name #Used to scope out a namespace for global variables.\n",
    "params['N_rec'] = N_rec"
   ]
  },
  {
   "cell_type": "markdown",
   "metadata": {},
   "source": [
    "There are some other optional parameters we can add in:"
   ]
  },
  {
   "cell_type": "code",
   "execution_count": 24,
   "metadata": {},
   "outputs": [],
   "source": [
    "params['dale_ratio'] = None # Default: None -- when the dale_ratio is set, dale's law is applied\n",
    "params['rec_noise'] = 0.0 # Default: 0.0 -- how much noise to add to the new_state calculation\n",
    "params['W_in_train'] = True # Indicates whether W_in is trainable. Default: True\n",
    "params['W_rec_train'] = True # Indicates whether W_rec is trainable. Default: True\n",
    "params['W_out_train'] = True # Indicates whether W_out is trainable. Default: True\n",
    "params['b_rec_train'] = True # Indicates whether b_rec is trainable. Default: True\n",
    "params['b_out_train'] = True # Indicates whether b_out is trainable. Default: True\n",
    "params['init_state_train'] = True # Indicates whether init_state is trainable. Default: True\n",
    "params['load_weights_path'] = None # When given a path, loads weights from file in that path. Default: None"
   ]
  },
  {
   "cell_type": "markdown",
   "metadata": {},
   "source": [
    "Instantiate our model"
   ]
  },
  {
   "cell_type": "code",
   "execution_count": 25,
   "metadata": {},
   "outputs": [],
   "source": [
    "basicModel = Basic(params)"
   ]
  },
  {
   "cell_type": "markdown",
   "metadata": {},
   "source": [
    "Start a tensorflow session with loss, regularization, predictions, and regularized loss defined."
   ]
  },
  {
   "cell_type": "code",
   "execution_count": 26,
   "metadata": {},
   "outputs": [],
   "source": [
    "basicModel.build()"
   ]
  },
  {
   "cell_type": "markdown",
   "metadata": {},
   "source": [
    "Set the training parameters for our model. All of the parameters below are optional."
   ]
  },
  {
   "cell_type": "code",
   "execution_count": 27,
   "metadata": {},
   "outputs": [],
   "source": [
    "train_params = {}\n",
    "train_params['save_weights_path'] =  '../weights/refactor_weights.npz' # Where to save the model after training. Default: None\n",
    "train_params['training_iters'] = 100000 # number of iterations to train for Default: 10000\n",
    "train_params['learning_rate'] = .001 # Sets learning rate if use default optimizer Default: .001\n",
    "train_params['loss_epoch'] = 10 # Compute and record loss every 'loss_epoch' epochs. Default: 10\n",
    "train_params['verbosity'] = True # If true, prints information as training progresses. Default: True\n",
    "train_params['save_training_weights_epoch'] = 100 # save training weights every 'save_training_weights_epoch' epochs. Default: 100\n",
    "train_params['training_weights_path'] = None # where to save training weights as training progresses. Default: None\n",
    "train_params['generator_function'] = None # replaces trial_batch_generator with the generator_function when not none. Default: None\n",
    "train_params['optimizer'] = tf.train.AdamOptimizer(learning_rate=train_params['learning_rate']) # What optimizer to use to compute gradients. Default: tf.train.AdamOptimizer(learning_rate=train_params['learning_rate'])\n",
    "train_params['clip_grads'] = True # If true, clip gradients by norm 1. Default: True"
   ]
  },
  {
   "cell_type": "markdown",
   "metadata": {},
   "source": [
    "Train our model."
   ]
  },
  {
   "cell_type": "code",
   "execution_count": 28,
   "metadata": {},
   "outputs": [
    {
     "name": "stdout",
     "output_type": "stream",
     "text": [
      "Iter 500, Minibatch Loss= 0.168909\n",
      "Iter 1000, Minibatch Loss= 0.130148\n",
      "Iter 1500, Minibatch Loss= 0.124142\n",
      "Iter 2000, Minibatch Loss= 0.133404\n",
      "Iter 2500, Minibatch Loss= 0.137792\n",
      "Iter 3000, Minibatch Loss= 0.127812\n",
      "Iter 3500, Minibatch Loss= 0.124716\n",
      "Iter 4000, Minibatch Loss= 0.127972\n",
      "Iter 4500, Minibatch Loss= 0.124757\n",
      "Iter 5000, Minibatch Loss= 0.114968\n",
      "Iter 5500, Minibatch Loss= 0.129070\n",
      "Iter 6000, Minibatch Loss= 0.124162\n",
      "Iter 6500, Minibatch Loss= 0.094668\n",
      "Iter 7000, Minibatch Loss= 0.054884\n",
      "Iter 7500, Minibatch Loss= 0.044743\n",
      "Iter 8000, Minibatch Loss= 0.047370\n",
      "Iter 8500, Minibatch Loss= 0.027496\n",
      "Iter 9000, Minibatch Loss= 0.024226\n",
      "Iter 9500, Minibatch Loss= 0.083727\n",
      "Iter 10000, Minibatch Loss= 0.025335\n",
      "Iter 10500, Minibatch Loss= 0.043879\n",
      "Iter 11000, Minibatch Loss= 0.026227\n",
      "Iter 11500, Minibatch Loss= 0.019103\n",
      "Iter 12000, Minibatch Loss= 0.014665\n",
      "Iter 12500, Minibatch Loss= 0.026767\n",
      "Iter 13000, Minibatch Loss= 0.016457\n",
      "Iter 13500, Minibatch Loss= 0.037413\n",
      "Iter 14000, Minibatch Loss= 0.014923\n",
      "Iter 14500, Minibatch Loss= 0.013617\n",
      "Iter 15000, Minibatch Loss= 0.016015\n",
      "Iter 15500, Minibatch Loss= 0.010935\n",
      "Iter 16000, Minibatch Loss= 0.012931\n",
      "Iter 16500, Minibatch Loss= 0.023529\n",
      "Iter 17000, Minibatch Loss= 0.012704\n",
      "Iter 17500, Minibatch Loss= 0.020228\n",
      "Iter 18000, Minibatch Loss= 0.017906\n",
      "Iter 18500, Minibatch Loss= 0.028123\n",
      "Iter 19000, Minibatch Loss= 0.019533\n",
      "Iter 19500, Minibatch Loss= 0.013794\n",
      "Iter 20000, Minibatch Loss= 0.011314\n",
      "Iter 20500, Minibatch Loss= 0.016168\n",
      "Iter 21000, Minibatch Loss= 0.012295\n",
      "Iter 21500, Minibatch Loss= 0.014755\n",
      "Iter 22000, Minibatch Loss= 0.014072\n",
      "Iter 22500, Minibatch Loss= 0.035704\n",
      "Iter 23000, Minibatch Loss= 0.013174\n",
      "Iter 23500, Minibatch Loss= 0.009825\n",
      "Iter 24000, Minibatch Loss= 0.010114\n",
      "Iter 24500, Minibatch Loss= 0.008527\n",
      "Iter 25000, Minibatch Loss= 0.007436\n",
      "Iter 25500, Minibatch Loss= 0.013237\n",
      "Iter 26000, Minibatch Loss= 0.017201\n",
      "Iter 26500, Minibatch Loss= 0.009477\n",
      "Iter 27000, Minibatch Loss= 0.009585\n",
      "Iter 27500, Minibatch Loss= 0.008911\n",
      "Iter 28000, Minibatch Loss= 0.007193\n",
      "Iter 28500, Minibatch Loss= 0.011738\n",
      "Iter 29000, Minibatch Loss= 0.007331\n",
      "Iter 29500, Minibatch Loss= 0.007533\n",
      "Iter 30000, Minibatch Loss= 0.008297\n",
      "Iter 30500, Minibatch Loss= 0.007270\n",
      "Iter 31000, Minibatch Loss= 0.006961\n",
      "Iter 31500, Minibatch Loss= 0.009747\n",
      "Iter 32000, Minibatch Loss= 0.005919\n",
      "Iter 32500, Minibatch Loss= 0.009186\n",
      "Iter 33000, Minibatch Loss= 0.006244\n",
      "Iter 33500, Minibatch Loss= 0.008255\n",
      "Iter 34000, Minibatch Loss= 0.005972\n",
      "Iter 34500, Minibatch Loss= 0.005736\n",
      "Iter 35000, Minibatch Loss= 0.005310\n",
      "Iter 35500, Minibatch Loss= 0.006028\n",
      "Iter 36000, Minibatch Loss= 0.010341\n",
      "Iter 36500, Minibatch Loss= 0.005466\n",
      "Iter 37000, Minibatch Loss= 0.004809\n",
      "Iter 37500, Minibatch Loss= 0.004589\n",
      "Iter 38000, Minibatch Loss= 0.005334\n",
      "Iter 38500, Minibatch Loss= 0.007147\n",
      "Iter 39000, Minibatch Loss= 0.017557\n",
      "Iter 39500, Minibatch Loss= 0.007634\n",
      "Iter 40000, Minibatch Loss= 0.005039\n",
      "Iter 40500, Minibatch Loss= 0.004677\n",
      "Iter 41000, Minibatch Loss= 0.050789\n",
      "Iter 41500, Minibatch Loss= 0.014467\n",
      "Iter 42000, Minibatch Loss= 0.004887\n",
      "Iter 42500, Minibatch Loss= 0.003865\n",
      "Iter 43000, Minibatch Loss= 0.004824\n",
      "Iter 43500, Minibatch Loss= 0.011140\n",
      "Iter 44000, Minibatch Loss= 0.013191\n",
      "Iter 44500, Minibatch Loss= 0.004900\n",
      "Iter 45000, Minibatch Loss= 0.003033\n",
      "Iter 45500, Minibatch Loss= 0.003784\n",
      "Iter 46000, Minibatch Loss= 0.005697\n",
      "Iter 46500, Minibatch Loss= 0.003446\n",
      "Iter 47000, Minibatch Loss= 0.003618\n",
      "Iter 47500, Minibatch Loss= 0.004009\n",
      "Iter 48000, Minibatch Loss= 0.005349\n",
      "Iter 48500, Minibatch Loss= 0.003372\n",
      "Iter 49000, Minibatch Loss= 0.003836\n",
      "Iter 49500, Minibatch Loss= 0.003403\n",
      "Iter 50000, Minibatch Loss= 0.003565\n",
      "Iter 50500, Minibatch Loss= 0.005509\n",
      "Iter 51000, Minibatch Loss= 0.004488\n",
      "Iter 51500, Minibatch Loss= 0.003603\n",
      "Iter 52000, Minibatch Loss= 0.003566\n",
      "Iter 52500, Minibatch Loss= 0.002978\n",
      "Iter 53000, Minibatch Loss= 0.002655\n",
      "Iter 53500, Minibatch Loss= 0.003425\n",
      "Iter 54000, Minibatch Loss= 0.003201\n",
      "Iter 54500, Minibatch Loss= 0.003476\n",
      "Iter 55000, Minibatch Loss= 0.002477\n",
      "Iter 55500, Minibatch Loss= 0.007011\n",
      "Iter 56000, Minibatch Loss= 0.004801\n",
      "Iter 56500, Minibatch Loss= 0.003547\n",
      "Iter 57000, Minibatch Loss= 0.004588\n",
      "Iter 57500, Minibatch Loss= 0.002976\n",
      "Iter 58000, Minibatch Loss= 0.002825\n",
      "Iter 58500, Minibatch Loss= 0.003512\n",
      "Iter 59000, Minibatch Loss= 0.003466\n",
      "Iter 59500, Minibatch Loss= 0.002674\n",
      "Iter 60000, Minibatch Loss= 0.003514\n",
      "Iter 60500, Minibatch Loss= 0.006392\n",
      "Iter 61000, Minibatch Loss= 0.003643\n",
      "Iter 61500, Minibatch Loss= 0.003250\n",
      "Iter 62000, Minibatch Loss= 0.002480\n",
      "Iter 62500, Minibatch Loss= 0.003056\n",
      "Iter 63000, Minibatch Loss= 0.002573\n",
      "Iter 63500, Minibatch Loss= 0.003134\n",
      "Iter 64000, Minibatch Loss= 0.006817\n",
      "Iter 64500, Minibatch Loss= 0.005394\n",
      "Iter 65000, Minibatch Loss= 0.003349\n",
      "Iter 65500, Minibatch Loss= 0.002653\n",
      "Iter 66000, Minibatch Loss= 0.002917\n",
      "Iter 66500, Minibatch Loss= 0.003245\n",
      "Iter 67000, Minibatch Loss= 0.002426\n",
      "Iter 67500, Minibatch Loss= 0.003206\n",
      "Iter 68000, Minibatch Loss= 0.002386\n",
      "Iter 68500, Minibatch Loss= 0.003323\n",
      "Iter 69000, Minibatch Loss= 0.002790\n",
      "Iter 69500, Minibatch Loss= 0.002296\n",
      "Iter 70000, Minibatch Loss= 0.002166\n",
      "Iter 70500, Minibatch Loss= 0.002808\n",
      "Iter 71000, Minibatch Loss= 0.002347\n",
      "Iter 71500, Minibatch Loss= 0.002185\n",
      "Iter 72000, Minibatch Loss= 0.002508\n",
      "Iter 72500, Minibatch Loss= 0.003430\n",
      "Iter 73000, Minibatch Loss= 0.002121\n",
      "Iter 73500, Minibatch Loss= 0.002194\n",
      "Iter 74000, Minibatch Loss= 0.002162\n",
      "Iter 74500, Minibatch Loss= 0.002303\n",
      "Iter 75000, Minibatch Loss= 0.002342\n",
      "Iter 75500, Minibatch Loss= 0.002093\n",
      "Iter 76000, Minibatch Loss= 0.002133\n",
      "Iter 76500, Minibatch Loss= 0.002433\n",
      "Iter 77000, Minibatch Loss= 0.002483\n",
      "Iter 77500, Minibatch Loss= 0.002190\n",
      "Iter 78000, Minibatch Loss= 0.001895\n",
      "Iter 78500, Minibatch Loss= 0.002663\n",
      "Iter 79000, Minibatch Loss= 0.002183\n",
      "Iter 79500, Minibatch Loss= 0.002129\n",
      "Iter 80000, Minibatch Loss= 0.002165\n",
      "Iter 80500, Minibatch Loss= 0.002187\n",
      "Iter 81000, Minibatch Loss= 0.001848\n",
      "Iter 81500, Minibatch Loss= 0.002085\n",
      "Iter 82000, Minibatch Loss= 0.002196\n",
      "Iter 82500, Minibatch Loss= 0.001957\n",
      "Iter 83000, Minibatch Loss= 0.001975\n",
      "Iter 83500, Minibatch Loss= 0.001928\n",
      "Iter 84000, Minibatch Loss= 0.001992\n",
      "Iter 84500, Minibatch Loss= 0.001866\n",
      "Iter 85000, Minibatch Loss= 0.001967\n",
      "Iter 85500, Minibatch Loss= 0.002063\n",
      "Iter 86000, Minibatch Loss= 0.002001\n",
      "Iter 86500, Minibatch Loss= 0.001808\n",
      "Iter 87000, Minibatch Loss= 0.001952\n",
      "Iter 87500, Minibatch Loss= 0.002020\n",
      "Iter 88000, Minibatch Loss= 0.001841\n",
      "Iter 88500, Minibatch Loss= 0.002024\n",
      "Iter 89000, Minibatch Loss= 0.001906\n",
      "Iter 89500, Minibatch Loss= 0.002157\n",
      "Iter 90000, Minibatch Loss= 0.002005\n",
      "Iter 90500, Minibatch Loss= 0.001881\n",
      "Iter 91000, Minibatch Loss= 0.001791\n",
      "Iter 91500, Minibatch Loss= 0.001699\n",
      "Iter 92000, Minibatch Loss= 0.001933\n",
      "Iter 92500, Minibatch Loss= 0.001589\n",
      "Iter 93000, Minibatch Loss= 0.001723\n",
      "Iter 93500, Minibatch Loss= 0.001627\n",
      "Iter 94000, Minibatch Loss= 0.001573\n",
      "Iter 94500, Minibatch Loss= 0.001875\n",
      "Iter 95000, Minibatch Loss= 0.001468\n",
      "Iter 95500, Minibatch Loss= 0.001561\n",
      "Iter 96000, Minibatch Loss= 0.001638\n",
      "Iter 96500, Minibatch Loss= 0.002104\n",
      "Iter 97000, Minibatch Loss= 0.001518\n",
      "Iter 97500, Minibatch Loss= 0.001864\n",
      "Iter 98000, Minibatch Loss= 0.001925\n",
      "Iter 98500, Minibatch Loss= 0.001581\n",
      "Iter 99000, Minibatch Loss= 0.001751\n",
      "Iter 99500, Minibatch Loss= 0.001517\n",
      "Optimization finished!\n",
      "Model saved in file: ../weights/refactor_weights.npz\n"
     ]
    },
    {
     "data": {
      "text/plain": [
       "([0.16890852,\n",
       "  0.13014814,\n",
       "  0.12414214,\n",
       "  0.13340399,\n",
       "  0.13779175,\n",
       "  0.12781231,\n",
       "  0.1247161,\n",
       "  0.12797248,\n",
       "  0.124756545,\n",
       "  0.11496811,\n",
       "  0.12907024,\n",
       "  0.12416176,\n",
       "  0.09466838,\n",
       "  0.054884247,\n",
       "  0.04474269,\n",
       "  0.047369804,\n",
       "  0.027495526,\n",
       "  0.024226105,\n",
       "  0.083727285,\n",
       "  0.025335198,\n",
       "  0.043878682,\n",
       "  0.026227426,\n",
       "  0.019103058,\n",
       "  0.01466498,\n",
       "  0.026766522,\n",
       "  0.016456943,\n",
       "  0.03741288,\n",
       "  0.014923213,\n",
       "  0.013616591,\n",
       "  0.016015353,\n",
       "  0.010935499,\n",
       "  0.012931067,\n",
       "  0.023528716,\n",
       "  0.012703581,\n",
       "  0.020227892,\n",
       "  0.017905658,\n",
       "  0.028122779,\n",
       "  0.019533372,\n",
       "  0.013793829,\n",
       "  0.011314186,\n",
       "  0.016167974,\n",
       "  0.012294805,\n",
       "  0.014754559,\n",
       "  0.0140720615,\n",
       "  0.035703897,\n",
       "  0.013173827,\n",
       "  0.009825475,\n",
       "  0.010114124,\n",
       "  0.008527086,\n",
       "  0.007435728,\n",
       "  0.0132372435,\n",
       "  0.017201478,\n",
       "  0.009476927,\n",
       "  0.009585115,\n",
       "  0.008911278,\n",
       "  0.007192676,\n",
       "  0.0117378,\n",
       "  0.0073311706,\n",
       "  0.007533467,\n",
       "  0.008296515,\n",
       "  0.0072699534,\n",
       "  0.0069609922,\n",
       "  0.009747184,\n",
       "  0.005918724,\n",
       "  0.0091860695,\n",
       "  0.0062439,\n",
       "  0.008254747,\n",
       "  0.005972277,\n",
       "  0.005735714,\n",
       "  0.005309554,\n",
       "  0.006028009,\n",
       "  0.010341254,\n",
       "  0.005466418,\n",
       "  0.0048093996,\n",
       "  0.004588742,\n",
       "  0.005334329,\n",
       "  0.0071474756,\n",
       "  0.017557248,\n",
       "  0.0076340516,\n",
       "  0.00503947,\n",
       "  0.0046772244,\n",
       "  0.050789412,\n",
       "  0.014466525,\n",
       "  0.004887374,\n",
       "  0.003865463,\n",
       "  0.0048237173,\n",
       "  0.011139993,\n",
       "  0.013190915,\n",
       "  0.00489964,\n",
       "  0.0030334159,\n",
       "  0.0037844449,\n",
       "  0.005696555,\n",
       "  0.0034461585,\n",
       "  0.0036181752,\n",
       "  0.004009192,\n",
       "  0.0053491793,\n",
       "  0.003372003,\n",
       "  0.0038364872,\n",
       "  0.0034034331,\n",
       "  0.003564567,\n",
       "  0.00550854,\n",
       "  0.0044875154,\n",
       "  0.0036027275,\n",
       "  0.003565876,\n",
       "  0.002978297,\n",
       "  0.002654843,\n",
       "  0.003425132,\n",
       "  0.0032007939,\n",
       "  0.0034757648,\n",
       "  0.0024772312,\n",
       "  0.0070111826,\n",
       "  0.004801294,\n",
       "  0.0035465772,\n",
       "  0.004587603,\n",
       "  0.00297612,\n",
       "  0.0028251363,\n",
       "  0.0035115418,\n",
       "  0.0034662667,\n",
       "  0.0026737612,\n",
       "  0.003513748,\n",
       "  0.0063917944,\n",
       "  0.0036426703,\n",
       "  0.0032501023,\n",
       "  0.0024804177,\n",
       "  0.0030564107,\n",
       "  0.0025725146,\n",
       "  0.003133938,\n",
       "  0.00681663,\n",
       "  0.0053942446,\n",
       "  0.0033492916,\n",
       "  0.002653468,\n",
       "  0.0029165072,\n",
       "  0.0032450294,\n",
       "  0.0024256986,\n",
       "  0.0032056966,\n",
       "  0.002385826,\n",
       "  0.0033225247,\n",
       "  0.0027895016,\n",
       "  0.0022956412,\n",
       "  0.0021661972,\n",
       "  0.0028076875,\n",
       "  0.002347223,\n",
       "  0.0021852867,\n",
       "  0.0025078978,\n",
       "  0.0034302552,\n",
       "  0.002121069,\n",
       "  0.0021941587,\n",
       "  0.0021619399,\n",
       "  0.0023033307,\n",
       "  0.0023423242,\n",
       "  0.0020930127,\n",
       "  0.0021327862,\n",
       "  0.0024328248,\n",
       "  0.0024830394,\n",
       "  0.0021902106,\n",
       "  0.0018951643,\n",
       "  0.002663385,\n",
       "  0.0021825624,\n",
       "  0.0021287152,\n",
       "  0.0021652621,\n",
       "  0.0021867172,\n",
       "  0.0018480984,\n",
       "  0.0020852422,\n",
       "  0.0021960558,\n",
       "  0.001956724,\n",
       "  0.001974886,\n",
       "  0.0019280296,\n",
       "  0.0019923793,\n",
       "  0.0018657395,\n",
       "  0.0019673037,\n",
       "  0.0020633845,\n",
       "  0.0020009198,\n",
       "  0.0018077455,\n",
       "  0.0019517113,\n",
       "  0.0020204599,\n",
       "  0.0018414032,\n",
       "  0.0020239912,\n",
       "  0.0019058445,\n",
       "  0.002157394,\n",
       "  0.0020048073,\n",
       "  0.0018811222,\n",
       "  0.0017912618,\n",
       "  0.0016985495,\n",
       "  0.0019328881,\n",
       "  0.0015885265,\n",
       "  0.0017227869,\n",
       "  0.0016267969,\n",
       "  0.0015734121,\n",
       "  0.0018745419,\n",
       "  0.0014676175,\n",
       "  0.0015606751,\n",
       "  0.0016384668,\n",
       "  0.0021039734,\n",
       "  0.0015184584,\n",
       "  0.0018641892,\n",
       "  0.0019250803,\n",
       "  0.0015805983,\n",
       "  0.0017511128,\n",
       "  0.0015170975],\n",
       " 966.7673969268799,\n",
       " 28.398657083511353)"
      ]
     },
     "execution_count": 28,
     "metadata": {},
     "output_type": "execute_result"
    }
   ],
   "source": [
    "basicModel.train(gen, train_params)"
   ]
  },
  {
   "cell_type": "markdown",
   "metadata": {},
   "source": [
    "### Plot results"
   ]
  },
  {
   "cell_type": "markdown",
   "metadata": {},
   "source": [
    "Extract the next trial from the generator"
   ]
  },
  {
   "cell_type": "code",
   "execution_count": 29,
   "metadata": {},
   "outputs": [],
   "source": [
    "x,y,m = gen.next()"
   ]
  },
  {
   "cell_type": "markdown",
   "metadata": {},
   "source": [
    "Plot the x value of the trial -- for the RDM, this includes two input neurons ith different coherence. TODO(jasmine):x is time step, y is magnitude of input (arbitrary)"
   ]
  },
  {
   "cell_type": "code",
   "execution_count": 30,
   "metadata": {},
   "outputs": [
    {
     "data": {
      "text/plain": [
       "[<matplotlib.lines.Line2D at 0x140851ed0>,\n",
       " <matplotlib.lines.Line2D at 0x140851f90>]"
      ]
     },
     "execution_count": 30,
     "metadata": {},
     "output_type": "execute_result"
    },
    {
     "data": {
      "image/png": "[encoded data removed]",
      "text/plain": [
       "<Figure size 432x288 with 1 Axes>"
      ]
     },
     "metadata": {
      "needs_background": "light"
     },
     "output_type": "display_data"
    }
   ],
   "source": [
    "plt.plot(x[0,:,:])"
   ]
  },
  {
   "cell_type": "markdown",
   "metadata": {},
   "source": [
    "Run the trained model on this trial (not included in the training set)."
   ]
  },
  {
   "cell_type": "code",
   "execution_count": 31,
   "metadata": {},
   "outputs": [
    {
     "data": {
      "text/plain": [
       "[<matplotlib.lines.Line2D at 0x133766d90>,\n",
       " <matplotlib.lines.Line2D at 0x133766e50>]"
      ]
     },
     "execution_count": 31,
     "metadata": {},
     "output_type": "execute_result"
    },
    {
     "data": {
      "image/png": "[encoded data removed]",
      "text/plain": [
       "<Figure size 432x288 with 1 Axes>"
      ]
     },
     "metadata": {
      "needs_background": "light"
     },
     "output_type": "display_data"
    }
   ],
   "source": [
    "plt.plot(basicModel.test(x)[0][0,:,:])"
   ]
  },
  {
   "cell_type": "markdown",
   "metadata": {},
   "source": [
    "clean up the model to clear out the tensorflow namespace"
   ]
  },
  {
   "cell_type": "code",
   "execution_count": 32,
   "metadata": {},
   "outputs": [],
   "source": [
    "basicModel.destruct()"
   ]
  },
  {
   "cell_type": "code",
   "execution_count": null,
   "metadata": {},
   "outputs": [],
   "source": []
  }
 ],
 "metadata": {
  "kernelspec": {
   "display_name": "Python 2",
   "language": "python",
   "name": "python2"
  },
  "language_info": {
   "codemirror_mode": {
    "name": "ipython",
    "version": 2
   },
   "file_extension": ".py",
   "mimetype": "text/x-python",
   "name": "python",
   "nbconvert_exporter": "python",
   "pygments_lexer": "ipython2",
   "version": "2.7.15"
  }
 },
 "nbformat": 4,
 "nbformat_minor": 2
}
